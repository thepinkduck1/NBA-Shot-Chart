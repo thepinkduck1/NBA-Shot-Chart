{
 "cells": [
  {
   "cell_type": "code",
   "execution_count": 50,
   "metadata": {},
   "outputs": [],
   "source": [
    "import numpy as np\n",
    "import pandas as pd"
   ]
  },
  {
   "cell_type": "code",
   "execution_count": 51,
   "metadata": {},
   "outputs": [],
   "source": [
    "from nba_api.stats.static import players\n",
    "player_dict = players.get_players()\n",
    "\n",
    "from nba_api.stats.static import teams\n",
    "teams = teams.get_teams()"
   ]
  },
  {
   "cell_type": "code",
   "execution_count": 52,
   "metadata": {},
   "outputs": [
    {
     "data": {
      "text/plain": [
       "{'id': 1629628,\n",
       " 'full_name': 'RJ Barrett',\n",
       " 'first_name': 'RJ',\n",
       " 'last_name': 'Barrett',\n",
       " 'is_active': True}"
      ]
     },
     "execution_count": 52,
     "metadata": {},
     "output_type": "execute_result"
    }
   ],
   "source": [
    "selected_player = [player for player in player_dict\n",
    "                  if player['full_name'] == 'RJ Barrett'][0]\n",
    "selected_player"
   ]
  },
  {
   "cell_type": "code",
   "execution_count": 53,
   "metadata": {
    "scrolled": true
   },
   "outputs": [],
   "source": [
    "p_id = selected_player['id']"
   ]
  },
  {
   "cell_type": "code",
   "execution_count": 78,
   "metadata": {
    "scrolled": true
   },
   "outputs": [
    {
     "data": {
      "text/html": [
       "<div>\n",
       "<style scoped>\n",
       "    .dataframe tbody tr th:only-of-type {\n",
       "        vertical-align: middle;\n",
       "    }\n",
       "\n",
       "    .dataframe tbody tr th {\n",
       "        vertical-align: top;\n",
       "    }\n",
       "\n",
       "    .dataframe thead th {\n",
       "        text-align: right;\n",
       "    }\n",
       "</style>\n",
       "<table border=\"1\" class=\"dataframe\">\n",
       "  <thead>\n",
       "    <tr style=\"text-align: right;\">\n",
       "      <th></th>\n",
       "      <th>PERSON_ID</th>\n",
       "      <th>FIRST_NAME</th>\n",
       "      <th>LAST_NAME</th>\n",
       "      <th>DISPLAY_FIRST_LAST</th>\n",
       "      <th>DISPLAY_LAST_COMMA_FIRST</th>\n",
       "      <th>DISPLAY_FI_LAST</th>\n",
       "      <th>PLAYER_SLUG</th>\n",
       "      <th>BIRTHDATE</th>\n",
       "      <th>SCHOOL</th>\n",
       "      <th>COUNTRY</th>\n",
       "      <th>...</th>\n",
       "      <th>TEAM_CITY</th>\n",
       "      <th>PLAYERCODE</th>\n",
       "      <th>FROM_YEAR</th>\n",
       "      <th>TO_YEAR</th>\n",
       "      <th>DLEAGUE_FLAG</th>\n",
       "      <th>NBA_FLAG</th>\n",
       "      <th>GAMES_PLAYED_FLAG</th>\n",
       "      <th>DRAFT_YEAR</th>\n",
       "      <th>DRAFT_ROUND</th>\n",
       "      <th>DRAFT_NUMBER</th>\n",
       "    </tr>\n",
       "  </thead>\n",
       "  <tbody>\n",
       "    <tr>\n",
       "      <th>0</th>\n",
       "      <td>1629628</td>\n",
       "      <td>RJ</td>\n",
       "      <td>Barrett</td>\n",
       "      <td>RJ Barrett</td>\n",
       "      <td>Barrett, RJ</td>\n",
       "      <td>R. Barrett</td>\n",
       "      <td>rj-barrett</td>\n",
       "      <td>2000-06-14T00:00:00</td>\n",
       "      <td>Duke</td>\n",
       "      <td>Canada</td>\n",
       "      <td>...</td>\n",
       "      <td>New York</td>\n",
       "      <td>rj_barrett</td>\n",
       "      <td>2019</td>\n",
       "      <td>2020</td>\n",
       "      <td>N</td>\n",
       "      <td>Y</td>\n",
       "      <td>Y</td>\n",
       "      <td>2019</td>\n",
       "      <td>1</td>\n",
       "      <td>3</td>\n",
       "    </tr>\n",
       "  </tbody>\n",
       "</table>\n",
       "<p>1 rows × 32 columns</p>\n",
       "</div>"
      ],
      "text/plain": [
       "   PERSON_ID FIRST_NAME LAST_NAME DISPLAY_FIRST_LAST DISPLAY_LAST_COMMA_FIRST  \\\n",
       "0    1629628         RJ   Barrett         RJ Barrett              Barrett, RJ   \n",
       "\n",
       "  DISPLAY_FI_LAST PLAYER_SLUG            BIRTHDATE SCHOOL COUNTRY  ...  \\\n",
       "0      R. Barrett  rj-barrett  2000-06-14T00:00:00   Duke  Canada  ...   \n",
       "\n",
       "  TEAM_CITY  PLAYERCODE FROM_YEAR  TO_YEAR DLEAGUE_FLAG NBA_FLAG  \\\n",
       "0  New York  rj_barrett      2019     2020            N        Y   \n",
       "\n",
       "  GAMES_PLAYED_FLAG DRAFT_YEAR  DRAFT_ROUND DRAFT_NUMBER  \n",
       "0                 Y       2019            1            3  \n",
       "\n",
       "[1 rows x 32 columns]"
      ]
     },
     "execution_count": 78,
     "metadata": {},
     "output_type": "execute_result"
    }
   ],
   "source": [
    "from nba_api.stats.endpoints import commonplayerinfo\n",
    "\n",
    "player_info = commonplayerinfo.CommonPlayerInfo(player_id=p_id)\n",
    "player_info_dict = player_info.get_dict()\n",
    "keys = player_info_dict['resultSets'][0]['headers']\n",
    "values = player_info_dict['resultSets'][0]['rowSet']\n",
    "\n",
    "df_player_info = pd.DataFrame(list(values),columns = list(keys)) \n",
    "df_player_info"
   ]
  },
  {
   "cell_type": "code",
   "execution_count": null,
   "metadata": {},
   "outputs": [],
   "source": []
  }
 ],
 "metadata": {
  "kernelspec": {
   "display_name": "Python 3",
   "language": "python",
   "name": "python3"
  },
  "language_info": {
   "codemirror_mode": {
    "name": "ipython",
    "version": 3
   },
   "file_extension": ".py",
   "mimetype": "text/x-python",
   "name": "python",
   "nbconvert_exporter": "python",
   "pygments_lexer": "ipython3",
   "version": "3.9.1"
  }
 },
 "nbformat": 4,
 "nbformat_minor": 2
}
